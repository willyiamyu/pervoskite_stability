{
 "cells": [
  {
   "cell_type": "code",
   "execution_count": 1,
   "metadata": {},
   "outputs": [],
   "source": [
    "import pandas as pd \n",
    "import numpy as np \n",
    "import matplotlib.pyplot as plt"
   ]
  },
  {
   "cell_type": "code",
   "execution_count": 2,
   "metadata": {
    "scrolled": true
   },
   "outputs": [
    {
     "data": {
      "text/html": [
       "<div>\n",
       "<style scoped>\n",
       "    .dataframe tbody tr th:only-of-type {\n",
       "        vertical-align: middle;\n",
       "    }\n",
       "\n",
       "    .dataframe tbody tr th {\n",
       "        vertical-align: top;\n",
       "    }\n",
       "\n",
       "    .dataframe thead th {\n",
       "        text-align: right;\n",
       "    }\n",
       "</style>\n",
       "<table border=\"1\" class=\"dataframe\">\n",
       "  <thead>\n",
       "    <tr style=\"text-align: right;\">\n",
       "      <th></th>\n",
       "      <th>goldschmidt_TF</th>\n",
       "      <th>goldschmidt_TF_ionic</th>\n",
       "      <th>octahedral_factor</th>\n",
       "      <th>octahedral_factor_ionic</th>\n",
       "      <th>A_O</th>\n",
       "      <th>B_O</th>\n",
       "      <th>A_B</th>\n",
       "      <th>num_of_atoms_host_Asite0</th>\n",
       "      <th>shannon_radii_host_Asite0</th>\n",
       "      <th>host_Asite0_Ionic Radius (angstroms)</th>\n",
       "      <th>...</th>\n",
       "      <th>Bsite_NdUnfilled_range</th>\n",
       "      <th>Bsite_NdValence_range</th>\n",
       "      <th>Bsite_NfUnfilled_range</th>\n",
       "      <th>Bsite_NfValence_range</th>\n",
       "      <th>Bsite_NpUnfilled_range</th>\n",
       "      <th>Bsite_NpValence_range</th>\n",
       "      <th>Bsite_NsUnfilled_range</th>\n",
       "      <th>Bsite_NsValence_range</th>\n",
       "      <th>Bsite_NUnfilled_range</th>\n",
       "      <th>EnergyAboveHull</th>\n",
       "    </tr>\n",
       "  </thead>\n",
       "  <tbody>\n",
       "    <tr>\n",
       "      <th>0</th>\n",
       "      <td>1.021823</td>\n",
       "      <td>0.976828</td>\n",
       "      <td>0.414286</td>\n",
       "      <td>0.385714</td>\n",
       "      <td>2.86125</td>\n",
       "      <td>1.980</td>\n",
       "      <td>2.04125</td>\n",
       "      <td>7</td>\n",
       "      <td>1.440</td>\n",
       "      <td>1.26</td>\n",
       "      <td>...</td>\n",
       "      <td>0</td>\n",
       "      <td>0</td>\n",
       "      <td>0</td>\n",
       "      <td>0</td>\n",
       "      <td>0</td>\n",
       "      <td>0</td>\n",
       "      <td>0</td>\n",
       "      <td>0</td>\n",
       "      <td>0</td>\n",
       "      <td>29.747707</td>\n",
       "    </tr>\n",
       "    <tr>\n",
       "      <th>1</th>\n",
       "      <td>0.987385</td>\n",
       "      <td>0.889057</td>\n",
       "      <td>0.378571</td>\n",
       "      <td>0.464286</td>\n",
       "      <td>2.69500</td>\n",
       "      <td>1.930</td>\n",
       "      <td>1.82500</td>\n",
       "      <td>4</td>\n",
       "      <td>1.200</td>\n",
       "      <td>1.13</td>\n",
       "      <td>...</td>\n",
       "      <td>0</td>\n",
       "      <td>0</td>\n",
       "      <td>0</td>\n",
       "      <td>0</td>\n",
       "      <td>0</td>\n",
       "      <td>0</td>\n",
       "      <td>0</td>\n",
       "      <td>0</td>\n",
       "      <td>0</td>\n",
       "      <td>106.702335</td>\n",
       "    </tr>\n",
       "    <tr>\n",
       "      <th>2</th>\n",
       "      <td>0.976009</td>\n",
       "      <td>0.908360</td>\n",
       "      <td>0.452857</td>\n",
       "      <td>0.392857</td>\n",
       "      <td>2.80750</td>\n",
       "      <td>2.034</td>\n",
       "      <td>2.04150</td>\n",
       "      <td>6</td>\n",
       "      <td>1.340</td>\n",
       "      <td>1.00</td>\n",
       "      <td>...</td>\n",
       "      <td>0</td>\n",
       "      <td>0</td>\n",
       "      <td>0</td>\n",
       "      <td>0</td>\n",
       "      <td>0</td>\n",
       "      <td>0</td>\n",
       "      <td>0</td>\n",
       "      <td>0</td>\n",
       "      <td>0</td>\n",
       "      <td>171.608093</td>\n",
       "    </tr>\n",
       "    <tr>\n",
       "      <th>3</th>\n",
       "      <td>1.026809</td>\n",
       "      <td>0.865275</td>\n",
       "      <td>0.342857</td>\n",
       "      <td>0.492857</td>\n",
       "      <td>2.73000</td>\n",
       "      <td>1.880</td>\n",
       "      <td>1.81000</td>\n",
       "      <td>4</td>\n",
       "      <td>1.200</td>\n",
       "      <td>1.13</td>\n",
       "      <td>...</td>\n",
       "      <td>0</td>\n",
       "      <td>0</td>\n",
       "      <td>0</td>\n",
       "      <td>0</td>\n",
       "      <td>0</td>\n",
       "      <td>0</td>\n",
       "      <td>0</td>\n",
       "      <td>0</td>\n",
       "      <td>0</td>\n",
       "      <td>284.898190</td>\n",
       "    </tr>\n",
       "    <tr>\n",
       "      <th>4</th>\n",
       "      <td>0.909001</td>\n",
       "      <td>0.916519</td>\n",
       "      <td>0.452857</td>\n",
       "      <td>0.392857</td>\n",
       "      <td>2.61475</td>\n",
       "      <td>2.034</td>\n",
       "      <td>1.84875</td>\n",
       "      <td>6</td>\n",
       "      <td>1.083</td>\n",
       "      <td>1.03</td>\n",
       "      <td>...</td>\n",
       "      <td>0</td>\n",
       "      <td>0</td>\n",
       "      <td>0</td>\n",
       "      <td>0</td>\n",
       "      <td>0</td>\n",
       "      <td>0</td>\n",
       "      <td>0</td>\n",
       "      <td>0</td>\n",
       "      <td>0</td>\n",
       "      <td>270.007913</td>\n",
       "    </tr>\n",
       "  </tbody>\n",
       "</table>\n",
       "<p>5 rows × 963 columns</p>\n",
       "</div>"
      ],
      "text/plain": [
       "   goldschmidt_TF  goldschmidt_TF_ionic  octahedral_factor  \\\n",
       "0        1.021823              0.976828           0.414286   \n",
       "1        0.987385              0.889057           0.378571   \n",
       "2        0.976009              0.908360           0.452857   \n",
       "3        1.026809              0.865275           0.342857   \n",
       "4        0.909001              0.916519           0.452857   \n",
       "\n",
       "   octahedral_factor_ionic      A_O    B_O      A_B  num_of_atoms_host_Asite0  \\\n",
       "0                 0.385714  2.86125  1.980  2.04125                         7   \n",
       "1                 0.464286  2.69500  1.930  1.82500                         4   \n",
       "2                 0.392857  2.80750  2.034  2.04150                         6   \n",
       "3                 0.492857  2.73000  1.880  1.81000                         4   \n",
       "4                 0.392857  2.61475  2.034  1.84875                         6   \n",
       "\n",
       "   shannon_radii_host_Asite0  host_Asite0_Ionic Radius (angstroms)  ...  \\\n",
       "0                      1.440                                  1.26  ...   \n",
       "1                      1.200                                  1.13  ...   \n",
       "2                      1.340                                  1.00  ...   \n",
       "3                      1.200                                  1.13  ...   \n",
       "4                      1.083                                  1.03  ...   \n",
       "\n",
       "   Bsite_NdUnfilled_range  Bsite_NdValence_range  Bsite_NfUnfilled_range  \\\n",
       "0                       0                      0                       0   \n",
       "1                       0                      0                       0   \n",
       "2                       0                      0                       0   \n",
       "3                       0                      0                       0   \n",
       "4                       0                      0                       0   \n",
       "\n",
       "   Bsite_NfValence_range  Bsite_NpUnfilled_range  Bsite_NpValence_range  \\\n",
       "0                      0                       0                      0   \n",
       "1                      0                       0                      0   \n",
       "2                      0                       0                      0   \n",
       "3                      0                       0                      0   \n",
       "4                      0                       0                      0   \n",
       "\n",
       "   Bsite_NsUnfilled_range  Bsite_NsValence_range  Bsite_NUnfilled_range  \\\n",
       "0                       0                      0                      0   \n",
       "1                       0                      0                      0   \n",
       "2                       0                      0                      0   \n",
       "3                       0                      0                      0   \n",
       "4                       0                      0                      0   \n",
       "\n",
       "   EnergyAboveHull  \n",
       "0        29.747707  \n",
       "1       106.702335  \n",
       "2       171.608093  \n",
       "3       284.898190  \n",
       "4       270.007913  \n",
       "\n",
       "[5 rows x 963 columns]"
      ]
     },
     "execution_count": 2,
     "metadata": {},
     "output_type": "execute_result"
    }
   ],
   "source": [
    "raw = pd.read_excel('1-s2.0-S2352340918305092-mmc2.xlsx', sheet_name='Dataset with Generated Features')\n",
    "df = raw.copy()\n",
    "df.drop(['index', 'Material Composition', 'Formation_energy'], axis=1, inplace=True)\n",
    "df.head()"
   ]
  },
  {
   "cell_type": "code",
   "execution_count": 3,
   "metadata": {},
   "outputs": [
    {
     "data": {
      "text/plain": [
       "(1929, 792)"
      ]
     },
     "execution_count": 3,
     "metadata": {},
     "output_type": "execute_result"
    }
   ],
   "source": [
    "from sklearn.feature_selection import VarianceThreshold\n",
    "\n",
    "# remove features with 0 variance\n",
    "vt = VarianceThreshold()\n",
    "vt.fit(df)\n",
    "df = df.loc[:, vt.variances_ > 0 ]\n",
    "df.shape"
   ]
  },
  {
   "cell_type": "code",
   "execution_count": 4,
   "metadata": {},
   "outputs": [],
   "source": [
    "init_x = df.loc[:, df.columns !='EnergyAboveHull']\n",
    "init_y = df.loc[:, 'EnergyAboveHull']"
   ]
  },
  {
   "cell_type": "code",
   "execution_count": 5,
   "metadata": {},
   "outputs": [],
   "source": [
    "# remove low correlated features\n",
    "low_corr = []\n",
    "for col in init_x.columns:\n",
    "    if abs(init_x[col].corr(init_y)) < 1e-2:\n",
    "        low_corr.append(col)"
   ]
  },
  {
   "cell_type": "code",
   "execution_count": 6,
   "metadata": {},
   "outputs": [],
   "source": [
    "from collections import defaultdict\n",
    "corr_df = init_x.corr()\n",
    "# get features that have correlation > 0.95 \n",
    "def high_corr(corr):\n",
    "    raw_corrs = defaultdict(float)\n",
    "    for col in corr.columns:\n",
    "        index = corr[col].index\n",
    "        for pos in range(len(index)):\n",
    "            if np.abs(corr[col][pos]) >= 0.90 and index[pos] != col:\n",
    "                raw_corrs[(col, index[pos])] =  corr[col][pos]\n",
    "    \n",
    "    # remove duplicates by score\n",
    "    result = defaultdict(float)\n",
    "    for key,value in raw_corrs.items():\n",
    "        if value not in result.values():\n",
    "            result[key] = value\n",
    "            \n",
    "    return result\n",
    "\n",
    "high_corrs = high_corr(corr_df)"
   ]
  },
  {
   "cell_type": "code",
   "execution_count": 7,
   "metadata": {},
   "outputs": [
    {
     "name": "stdout",
     "output_type": "stream",
     "text": [
      "(1929, 397)\n"
     ]
    }
   ],
   "source": [
    "# keep only one of the features that are highly correlated\n",
    "# keep the one that has highest correlation with target\n",
    "df.drop(low_corr, axis=1, inplace=True)\n",
    "\n",
    "for key, val in high_corrs.items():\n",
    "    try: \n",
    "        if np.abs(df[key[0]].corr(df['EnergyAboveHull'])) > np.abs(df[key[1]].corr(df['EnergyAboveHull'])):\n",
    "            df = df.loc[:, df.columns != key[1]]\n",
    "        else: \n",
    "            df = df.loc[:, df.columns != key[0]]\n",
    "    except KeyError:\n",
    "        continue\n",
    "        \n",
    "print(df.shape)"
   ]
  },
  {
   "cell_type": "markdown",
   "metadata": {},
   "source": [
    "## Classification"
   ]
  },
  {
   "cell_type": "code",
   "execution_count": 8,
   "metadata": {},
   "outputs": [
    {
     "name": "stderr",
     "output_type": "stream",
     "text": [
      "/Users/williamyu/anaconda3/lib/python3.7/site-packages/ipykernel_launcher.py:3: SettingWithCopyWarning: \n",
      "A value is trying to be set on a copy of a slice from a DataFrame\n",
      "\n",
      "See the caveats in the documentation: https://pandas.pydata.org/pandas-docs/stable/user_guide/indexing.html#returning-a-view-versus-a-copy\n",
      "  This is separate from the ipykernel package so we can avoid doing imports until\n",
      "/Users/williamyu/anaconda3/lib/python3.7/site-packages/ipykernel_launcher.py:4: SettingWithCopyWarning: \n",
      "A value is trying to be set on a copy of a slice from a DataFrame\n",
      "\n",
      "See the caveats in the documentation: https://pandas.pydata.org/pandas-docs/stable/user_guide/indexing.html#returning-a-view-versus-a-copy\n",
      "  after removing the cwd from sys.path.\n"
     ]
    },
    {
     "data": {
      "text/html": [
       "<div>\n",
       "<style scoped>\n",
       "    .dataframe tbody tr th:only-of-type {\n",
       "        vertical-align: middle;\n",
       "    }\n",
       "\n",
       "    .dataframe tbody tr th {\n",
       "        vertical-align: top;\n",
       "    }\n",
       "\n",
       "    .dataframe thead th {\n",
       "        text-align: right;\n",
       "    }\n",
       "</style>\n",
       "<table border=\"1\" class=\"dataframe\">\n",
       "  <thead>\n",
       "    <tr style=\"text-align: right;\">\n",
       "      <th></th>\n",
       "      <th>octahedral_factor_ionic</th>\n",
       "      <th>num_of_atoms_host_Asite0</th>\n",
       "      <th>host_Asite0_BCCvolume_padiff</th>\n",
       "      <th>host_Asite0_HHIr</th>\n",
       "      <th>host_Asite0_At. Radius   (angstroms)</th>\n",
       "      <th>host_Asite0_MendeleevNumber</th>\n",
       "      <th>host_Asite0_Third Ionization Potential  (V)</th>\n",
       "      <th>host_Asite0_Coeficient of Thermal Expansion (10^-6 K-1)</th>\n",
       "      <th>host_Asite0_electrical conductivity</th>\n",
       "      <th>host_Asite0_Heat of Vaporization</th>\n",
       "      <th>...</th>\n",
       "      <th>Bsite_OrbitalD_range</th>\n",
       "      <th>Bsite_Most stable oxidation State_range</th>\n",
       "      <th>Bsite_IsAlkali_range.1</th>\n",
       "      <th>Bsite_IsDBlock_range</th>\n",
       "      <th>Bsite_IsMetal_range</th>\n",
       "      <th>Bsite_IsMetalloid_range</th>\n",
       "      <th>Bsite_NfValence_range</th>\n",
       "      <th>Bsite_NsUnfilled_range</th>\n",
       "      <th>Bsite_NUnfilled_range</th>\n",
       "      <th>class</th>\n",
       "    </tr>\n",
       "  </thead>\n",
       "  <tbody>\n",
       "    <tr>\n",
       "      <th>0</th>\n",
       "      <td>0.385714</td>\n",
       "      <td>7</td>\n",
       "      <td>-1.320</td>\n",
       "      <td>300</td>\n",
       "      <td>2.45</td>\n",
       "      <td>8</td>\n",
       "      <td>43.600</td>\n",
       "      <td>22.5</td>\n",
       "      <td>5.0</td>\n",
       "      <td>136.90</td>\n",
       "      <td>...</td>\n",
       "      <td>0</td>\n",
       "      <td>0</td>\n",
       "      <td>0</td>\n",
       "      <td>0</td>\n",
       "      <td>0</td>\n",
       "      <td>0</td>\n",
       "      <td>0</td>\n",
       "      <td>0</td>\n",
       "      <td>0</td>\n",
       "      <td>0.0</td>\n",
       "    </tr>\n",
       "    <tr>\n",
       "      <th>1</th>\n",
       "      <td>0.464286</td>\n",
       "      <td>4</td>\n",
       "      <td>0.215</td>\n",
       "      <td>310</td>\n",
       "      <td>2.67</td>\n",
       "      <td>17</td>\n",
       "      <td>21.620</td>\n",
       "      <td>5.4</td>\n",
       "      <td>1.5</td>\n",
       "      <td>332.63</td>\n",
       "      <td>...</td>\n",
       "      <td>0</td>\n",
       "      <td>0</td>\n",
       "      <td>0</td>\n",
       "      <td>0</td>\n",
       "      <td>0</td>\n",
       "      <td>0</td>\n",
       "      <td>0</td>\n",
       "      <td>0</td>\n",
       "      <td>0</td>\n",
       "      <td>1.0</td>\n",
       "    </tr>\n",
       "    <tr>\n",
       "      <th>2</th>\n",
       "      <td>0.392857</td>\n",
       "      <td>6</td>\n",
       "      <td>-0.950</td>\n",
       "      <td>150</td>\n",
       "      <td>2.23</td>\n",
       "      <td>7</td>\n",
       "      <td>50.908</td>\n",
       "      <td>22.3</td>\n",
       "      <td>31.3</td>\n",
       "      <td>154.67</td>\n",
       "      <td>...</td>\n",
       "      <td>0</td>\n",
       "      <td>0</td>\n",
       "      <td>0</td>\n",
       "      <td>0</td>\n",
       "      <td>0</td>\n",
       "      <td>0</td>\n",
       "      <td>0</td>\n",
       "      <td>0</td>\n",
       "      <td>0</td>\n",
       "      <td>1.0</td>\n",
       "    </tr>\n",
       "    <tr>\n",
       "      <th>3</th>\n",
       "      <td>0.492857</td>\n",
       "      <td>4</td>\n",
       "      <td>0.215</td>\n",
       "      <td>310</td>\n",
       "      <td>2.67</td>\n",
       "      <td>17</td>\n",
       "      <td>21.620</td>\n",
       "      <td>5.4</td>\n",
       "      <td>1.5</td>\n",
       "      <td>332.63</td>\n",
       "      <td>...</td>\n",
       "      <td>0</td>\n",
       "      <td>0</td>\n",
       "      <td>0</td>\n",
       "      <td>0</td>\n",
       "      <td>0</td>\n",
       "      <td>0</td>\n",
       "      <td>0</td>\n",
       "      <td>0</td>\n",
       "      <td>0</td>\n",
       "      <td>1.0</td>\n",
       "    </tr>\n",
       "    <tr>\n",
       "      <th>4</th>\n",
       "      <td>0.392857</td>\n",
       "      <td>6</td>\n",
       "      <td>-0.030</td>\n",
       "      <td>310</td>\n",
       "      <td>2.49</td>\n",
       "      <td>31</td>\n",
       "      <td>22.802</td>\n",
       "      <td>9.6</td>\n",
       "      <td>1.1</td>\n",
       "      <td>230.00</td>\n",
       "      <td>...</td>\n",
       "      <td>0</td>\n",
       "      <td>0</td>\n",
       "      <td>0</td>\n",
       "      <td>0</td>\n",
       "      <td>0</td>\n",
       "      <td>0</td>\n",
       "      <td>0</td>\n",
       "      <td>0</td>\n",
       "      <td>0</td>\n",
       "      <td>1.0</td>\n",
       "    </tr>\n",
       "  </tbody>\n",
       "</table>\n",
       "<p>5 rows × 397 columns</p>\n",
       "</div>"
      ],
      "text/plain": [
       "   octahedral_factor_ionic  num_of_atoms_host_Asite0  \\\n",
       "0                 0.385714                         7   \n",
       "1                 0.464286                         4   \n",
       "2                 0.392857                         6   \n",
       "3                 0.492857                         4   \n",
       "4                 0.392857                         6   \n",
       "\n",
       "   host_Asite0_BCCvolume_padiff  host_Asite0_HHIr  \\\n",
       "0                        -1.320               300   \n",
       "1                         0.215               310   \n",
       "2                        -0.950               150   \n",
       "3                         0.215               310   \n",
       "4                        -0.030               310   \n",
       "\n",
       "   host_Asite0_At. Radius   (angstroms)  host_Asite0_MendeleevNumber  \\\n",
       "0                                  2.45                            8   \n",
       "1                                  2.67                           17   \n",
       "2                                  2.23                            7   \n",
       "3                                  2.67                           17   \n",
       "4                                  2.49                           31   \n",
       "\n",
       "   host_Asite0_Third Ionization Potential  (V)  \\\n",
       "0                                       43.600   \n",
       "1                                       21.620   \n",
       "2                                       50.908   \n",
       "3                                       21.620   \n",
       "4                                       22.802   \n",
       "\n",
       "   host_Asite0_Coeficient of Thermal Expansion (10^-6 K-1)  \\\n",
       "0                                               22.5         \n",
       "1                                                5.4         \n",
       "2                                               22.3         \n",
       "3                                                5.4         \n",
       "4                                                9.6         \n",
       "\n",
       "   host_Asite0_electrical conductivity  host_Asite0_Heat of Vaporization  ...  \\\n",
       "0                                  5.0                            136.90  ...   \n",
       "1                                  1.5                            332.63  ...   \n",
       "2                                 31.3                            154.67  ...   \n",
       "3                                  1.5                            332.63  ...   \n",
       "4                                  1.1                            230.00  ...   \n",
       "\n",
       "   Bsite_OrbitalD_range  Bsite_Most stable oxidation State_range  \\\n",
       "0                     0                                        0   \n",
       "1                     0                                        0   \n",
       "2                     0                                        0   \n",
       "3                     0                                        0   \n",
       "4                     0                                        0   \n",
       "\n",
       "   Bsite_IsAlkali_range.1  Bsite_IsDBlock_range  Bsite_IsMetal_range  \\\n",
       "0                       0                     0                    0   \n",
       "1                       0                     0                    0   \n",
       "2                       0                     0                    0   \n",
       "3                       0                     0                    0   \n",
       "4                       0                     0                    0   \n",
       "\n",
       "   Bsite_IsMetalloid_range  Bsite_NfValence_range  Bsite_NsUnfilled_range  \\\n",
       "0                        0                      0                       0   \n",
       "1                        0                      0                       0   \n",
       "2                        0                      0                       0   \n",
       "3                        0                      0                       0   \n",
       "4                        0                      0                       0   \n",
       "\n",
       "   Bsite_NUnfilled_range  class  \n",
       "0                      0    0.0  \n",
       "1                      0    1.0  \n",
       "2                      0    1.0  \n",
       "3                      0    1.0  \n",
       "4                      0    1.0  \n",
       "\n",
       "[5 rows x 397 columns]"
      ]
     },
     "execution_count": 8,
     "metadata": {},
     "output_type": "execute_result"
    }
   ],
   "source": [
    "class_df = df.copy()\n",
    "class_df['class'] = class_df['EnergyAboveHull']\n",
    "class_df['class'][class_df['EnergyAboveHull'] > 40] = 1\n",
    "class_df['class'][class_df['EnergyAboveHull'] <= 40] = 0\n",
    "class_df.drop(['EnergyAboveHull'], axis=1, inplace=True)\n",
    "class_df.head()"
   ]
  },
  {
   "cell_type": "code",
   "execution_count": 9,
   "metadata": {},
   "outputs": [
    {
     "name": "stderr",
     "output_type": "stream",
     "text": [
      "/Users/williamyu/anaconda3/lib/python3.7/site-packages/pandas/core/frame.py:3997: SettingWithCopyWarning: \n",
      "A value is trying to be set on a copy of a slice from a DataFrame\n",
      "\n",
      "See the caveats in the documentation: https://pandas.pydata.org/pandas-docs/stable/user_guide/indexing.html#returning-a-view-versus-a-copy\n",
      "  errors=errors,\n"
     ]
    }
   ],
   "source": [
    "from sklearn.feature_selection import f_regression, f_classif, SelectKBest, RFECV, RFE\n",
    "from sklearn.model_selection import train_test_split\n",
    "\n",
    "X_class = class_df.loc[:, class_df.columns !='class']\n",
    "y_class = class_df.loc[:, 'class']\n",
    "\n",
    "X_train_class, X_test_class, y_train_class, y_test_class = train_test_split(X_class, y_class)\n",
    "\n",
    "f_values, p_values = f_classif(X_train_class, y_train_class)\n",
    "\n",
    "pval_df = pd.DataFrame({'features': X_class.columns, 'p_val': p_values})\n",
    "pval_df = pval_df[pval_df['p_val'] >= 0.05]\n",
    "\n",
    "class_df.drop(pval_df['features'], axis=1, inplace=True)\n",
    "X_class.drop(pval_df['features'], axis=1, inplace=True)\n",
    "X_train_class.drop(pval_df['features'], axis=1, inplace=True)\n",
    "X_test_class.drop(pval_df['features'], axis=1, inplace=True)"
   ]
  },
  {
   "cell_type": "code",
   "execution_count": 10,
   "metadata": {},
   "outputs": [],
   "source": [
    "from sklearn.model_selection import train_test_split, cross_val_score, cross_validate, GridSearchCV, KFold, StratifiedKFold,RandomizedSearchCV\n",
    "from sklearn.linear_model import LinearRegression, Lasso, LogisticRegression\n",
    "from sklearn.ensemble import GradientBoostingClassifier, ExtraTreesClassifier\n",
    "import xgboost"
   ]
  },
  {
   "cell_type": "code",
   "execution_count": 11,
   "metadata": {},
   "outputs": [
    {
     "name": "stdout",
     "output_type": "stream",
     "text": [
      "Number of Features: 22\n"
     ]
    }
   ],
   "source": [
    "# rfe feature select for classification\n",
    "rfe = RFECV(GradientBoostingClassifier(random_state=0), scoring='f1')\n",
    "rfe.fit(X_train_class, y_train_class)\n",
    "print('Number of Features:',  rfe.n_features_)"
   ]
  },
  {
   "cell_type": "code",
   "execution_count": 12,
   "metadata": {},
   "outputs": [
    {
     "name": "stdout",
     "output_type": "stream",
     "text": [
      "Number of Features: 209\n"
     ]
    }
   ],
   "source": [
    "from sklearn.tree import DecisionTreeClassifier, DecisionTreeRegressor\n",
    "rfe_tree = RFECV(DecisionTreeClassifier(random_state=0), cv=StratifiedKFold(5, shuffle=True, random_state=0), scoring='f1')\n",
    "rfe_tree.fit(X_train_class, y_train_class)\n",
    "print('Number of Features:',  rfe_tree.n_features_)"
   ]
  },
  {
   "cell_type": "code",
   "execution_count": 13,
   "metadata": {},
   "outputs": [
    {
     "name": "stdout",
     "output_type": "stream",
     "text": [
      "Number of Features: 273\n"
     ]
    }
   ],
   "source": [
    "rfe_et_class = RFECV(ExtraTreesClassifier(random_state=0), cv=StratifiedKFold(5, shuffle=True, random_state=0), scoring='f1')\n",
    "rfe_et_class.fit(X_train_class, y_train_class)\n",
    "print('Number of Features:',  rfe_et_class.n_features_)"
   ]
  },
  {
   "cell_type": "code",
   "execution_count": 16,
   "metadata": {},
   "outputs": [],
   "source": [
    "X_gb = X_class.iloc[:, rfe.support_]\n",
    "X_tree = X_class.iloc[:, rfe_tree.support_]\n",
    "X_et_class = X_class.iloc[:, rfe_et_class.support_]"
   ]
  },
  {
   "cell_type": "code",
   "execution_count": 17,
   "metadata": {},
   "outputs": [],
   "source": [
    "X_train_gb, X_test_gb, y_train_gb, y_test_gb = train_test_split(X_gb, y_class, random_state=0)\n",
    "X_train_tree, X_test_tree, y_train_tree, y_test_tree = train_test_split(X_tree, y_class, random_state=0)\n",
    "X_train_etc, X_test_etc, y_train_etc, y_test_etc = train_test_split(X_et_class, y_class, random_state=0)"
   ]
  },
  {
   "cell_type": "code",
   "execution_count": 43,
   "metadata": {},
   "outputs": [
    {
     "name": "stdout",
     "output_type": "stream",
     "text": [
      "0.9140989729225024\n",
      "              precision    recall  f1-score   support\n",
      "\n",
      "         0.0       0.87      0.88      0.87       125\n",
      "         1.0       0.96      0.95      0.96       358\n",
      "\n",
      "    accuracy                           0.93       483\n",
      "   macro avg       0.91      0.92      0.91       483\n",
      "weighted avg       0.93      0.93      0.93       483\n",
      "\n"
     ]
    }
   ],
   "source": [
    "from sklearn.metrics import f1_score, confusion_matrix, classification_report\n",
    "\n",
    "xgb = xgboost.XGBClassifier(random_state=0)\n",
    "xgb.fit(X_train_tree, y_train_tree)\n",
    "y_pred_xgb = xgb.predict(X_test_tree)\n",
    "print(f1_score(y_pred_xgb, y_test_tree, average='macro'))\n",
    "print(classification_report(y_pred_xgb, y_test_tree))"
   ]
  },
  {
   "cell_type": "code",
   "execution_count": 30,
   "metadata": {},
   "outputs": [
    {
     "data": {
      "text/plain": [
       "1.0    1362\n",
       "0.0     567\n",
       "Name: class, dtype: int64"
      ]
     },
     "execution_count": 30,
     "metadata": {},
     "output_type": "execute_result"
    }
   ],
   "source": [
    "# precision and recall both relatively low for stable compounds \n",
    "# imbalanced\n",
    "y_class.value_counts()"
   ]
  },
  {
   "cell_type": "code",
   "execution_count": 31,
   "metadata": {},
   "outputs": [
    {
     "name": "stdout",
     "output_type": "stream",
     "text": [
      "0.9009307662884101\n",
      "              precision    recall  f1-score   support\n",
      "\n",
      "         0.0       0.85      0.86      0.85       126\n",
      "         1.0       0.95      0.95      0.95       357\n",
      "\n",
      "    accuracy                           0.92       483\n",
      "   macro avg       0.90      0.90      0.90       483\n",
      "weighted avg       0.92      0.92      0.92       483\n",
      "\n"
     ]
    }
   ],
   "source": [
    "from imblearn.pipeline import make_pipeline as make_imb_pipeline\n",
    "from imblearn.over_sampling import RandomOverSampler, SMOTE\n",
    "\n",
    "xgb = xgboost.XGBClassifier(random_state=0)\n",
    "imb_pipe = make_imb_pipeline(RandomOverSampler(sampling_strategy=0.5, random_state=0), xgb)\n",
    "imb_pipe.fit(X_train_tree, y_train_tree)\n",
    "y_pred_xgb = imb_pipe.predict(X_test_tree)\n",
    "print(f1_score(y_pred_xgb, y_test_tree, average='macro'))\n",
    "print(classification_report(y_pred_xgb, y_test_tree))"
   ]
  },
  {
   "cell_type": "code",
   "execution_count": 32,
   "metadata": {
    "scrolled": true
   },
   "outputs": [
    {
     "name": "stdout",
     "output_type": "stream",
     "text": [
      "0.9043353873239436\n",
      "              precision    recall  f1-score   support\n",
      "\n",
      "         0.0       0.87      0.85      0.86       129\n",
      "         1.0       0.95      0.95      0.95       354\n",
      "\n",
      "    accuracy                           0.93       483\n",
      "   macro avg       0.91      0.90      0.90       483\n",
      "weighted avg       0.93      0.93      0.93       483\n",
      "\n"
     ]
    }
   ],
   "source": [
    "# pretty similar results, slightly better\n",
    "smote_pipe = make_imb_pipeline(SMOTE(random_state=0), xgboost.XGBClassifier(random_state=0))\n",
    "smote_pipe.fit(X_train_tree, y_train_tree)\n",
    "y_pred_xgb = smote_pipe.predict(X_test_tree)\n",
    "print(f1_score(y_pred_xgb, y_test_tree, average='macro'))\n",
    "print(classification_report(y_pred_xgb, y_test_tree))"
   ]
  },
  {
   "cell_type": "code",
   "execution_count": 45,
   "metadata": {},
   "outputs": [
    {
     "data": {
      "text/plain": [
       "0.914134362470544"
      ]
     },
     "execution_count": 45,
     "metadata": {},
     "output_type": "execute_result"
    }
   ],
   "source": [
    "# final one\n",
    "# training on 4 folds, evaluating on last fold = 80 20 split\n",
    "cross_val = []\n",
    "for i in range(20):\n",
    "    cross_val.append(np.mean(cross_val_score(smote_pipe, X_tree, y_class, \n",
    "                                             cv=StratifiedKFold(10, shuffle=True, random_state=i), \n",
    "                                             scoring='f1_macro')))\n",
    "np.mean(cross_val)"
   ]
  },
  {
   "cell_type": "code",
   "execution_count": 47,
   "metadata": {},
   "outputs": [
    {
     "data": {
      "text/plain": [
       "0.9099534110153412"
      ]
     },
     "execution_count": 47,
     "metadata": {},
     "output_type": "execute_result"
    }
   ],
   "source": [
    "cross_val = []\n",
    "xgb = xgboost.XGBClassifier(random_state=0)\n",
    "for i in range(20):\n",
    "    cross_val.append(np.mean(cross_val_score(xgb, X_tree, y_class, \n",
    "                                             cv=StratifiedKFold(10, shuffle=True, random_state=i), \n",
    "                                             scoring='f1_macro')))\n",
    "np.mean(cross_val)"
   ]
  },
  {
   "cell_type": "code",
   "execution_count": 49,
   "metadata": {},
   "outputs": [
    {
     "name": "stdout",
     "output_type": "stream",
     "text": [
      "{'n_estimators': [200, 400, 600, 800, 1000, 1200, 1400, 1600, 1800, 2000], 'max_features': ['auto', 'sqrt'], 'max_depth': [10, 20, 30, 40, 50, 60, 70, 80, 90, 100, 110, None], 'min_samples_split': [2, 5, 10], 'min_samples_leaf': [1, 2, 4], 'bootstrap': [True, False]}\n"
     ]
    }
   ],
   "source": [
    "# https://towardsdatascience.com/hyperparameter-tuning-the-random-for\n",
    "from sklearn.model_selection import RandomizedSearchCV\n",
    "\n",
    "# Number of trees in random forest\n",
    "n_estimators = [int(x) for x in np.linspace(start = 200, stop = 2000, num = 10)]\n",
    "# Number of features to consider at every split\n",
    "max_features = ['auto', 'sqrt']\n",
    "# Maximum number of levels in tree\n",
    "max_depth = [int(x) for x in np.linspace(10, 110, num = 11)]\n",
    "max_depth.append(None)\n",
    "# Minimum number of samples required to split a node\n",
    "min_samples_split = [2, 5, 10]\n",
    "# Minimum number of samples required at each leaf node\n",
    "min_samples_leaf = [1, 2, 4]\n",
    "# Method of selecting samples for training each tree\n",
    "bootstrap = [True, False]\n",
    "# Create the random grid\n",
    "random_grid = {'n_estimators': n_estimators,\n",
    "               'max_features': max_features,\n",
    "               'max_depth': max_depth,\n",
    "               'min_samples_split': min_samples_split,\n",
    "               'min_samples_leaf': min_samples_leaf,\n",
    "               'bootstrap': bootstrap}\n",
    "\n",
    "print(random_grid)"
   ]
  },
  {
   "cell_type": "code",
   "execution_count": 50,
   "metadata": {},
   "outputs": [
    {
     "name": "stdout",
     "output_type": "stream",
     "text": [
      "Fitting 3 folds for each of 100 candidates, totalling 300 fits\n"
     ]
    },
    {
     "name": "stderr",
     "output_type": "stream",
     "text": [
      "[Parallel(n_jobs=-1)]: Using backend LokyBackend with 8 concurrent workers.\n",
      "[Parallel(n_jobs=-1)]: Done  25 tasks      | elapsed:   21.0s\n",
      "[Parallel(n_jobs=-1)]: Done 146 tasks      | elapsed:  1.6min\n",
      "[Parallel(n_jobs=-1)]: Done 300 out of 300 | elapsed:  3.3min finished\n"
     ]
    },
    {
     "data": {
      "text/plain": [
       "{'n_estimators': 1800,\n",
       " 'min_samples_split': 2,\n",
       " 'min_samples_leaf': 1,\n",
       " 'max_features': 'auto',\n",
       " 'max_depth': 20,\n",
       " 'bootstrap': False}"
      ]
     },
     "execution_count": 50,
     "metadata": {},
     "output_type": "execute_result"
    }
   ],
   "source": [
    "# Random search of parameters, using 3 fold cross validation, \n",
    "# search across 100 different combinations, and use all available cores\n",
    "grid = RandomizedSearchCV(ExtraTreesClassifier(random_state=0), param_distributions = random_grid, n_iter = 100, cv = 3, verbose=2, random_state=42, n_jobs = -1)\n",
    "grid.fit(X_train_tree, y_train_tree)\n",
    "grid.best_params_"
   ]
  },
  {
   "cell_type": "code",
   "execution_count": 51,
   "metadata": {},
   "outputs": [
    {
     "data": {
      "text/plain": [
       "0.9180808828477222"
      ]
     },
     "execution_count": 51,
     "metadata": {},
     "output_type": "execute_result"
    }
   ],
   "source": [
    "from sklearn.ensemble import ExtraTreesClassifier, RandomForestClassifier, ExtraTreesRegressor\n",
    "dt_pipe = make_imb_pipeline(SMOTE(random_state=0), \n",
    "                            ExtraTreesClassifier(random_state=0, n_estimators=600, max_depth=60))\n",
    "np.mean(cross_val_score(dt_pipe, X_tree, y_class, cv=StratifiedKFold(5, shuffle=True, random_state=0), scoring='accuracy'))"
   ]
  },
  {
   "cell_type": "code",
   "execution_count": 52,
   "metadata": {},
   "outputs": [
    {
     "name": "stdout",
     "output_type": "stream",
     "text": [
      "Fitting 3 folds for each of 100 candidates, totalling 300 fits\n"
     ]
    },
    {
     "name": "stderr",
     "output_type": "stream",
     "text": [
      "[Parallel(n_jobs=-1)]: Using backend LokyBackend with 8 concurrent workers.\n",
      "[Parallel(n_jobs=-1)]: Done  25 tasks      | elapsed:   23.3s\n",
      "[Parallel(n_jobs=-1)]: Done 146 tasks      | elapsed:  1.9min\n",
      "[Parallel(n_jobs=-1)]: Done 300 out of 300 | elapsed:  3.9min finished\n"
     ]
    },
    {
     "data": {
      "text/plain": [
       "{'extratreesclassifier__n_estimators': 600,\n",
       " 'extratreesclassifier__min_samples_split': 5,\n",
       " 'extratreesclassifier__min_samples_leaf': 1,\n",
       " 'extratreesclassifier__max_features': 'auto',\n",
       " 'extratreesclassifier__max_depth': 80,\n",
       " 'extratreesclassifier__bootstrap': True}"
      ]
     },
     "execution_count": 52,
     "metadata": {},
     "output_type": "execute_result"
    }
   ],
   "source": [
    "random_grid = {'extratreesclassifier__n_estimators': n_estimators,\n",
    "               'extratreesclassifier__max_features': max_features,\n",
    "               'extratreesclassifier__max_depth': max_depth,\n",
    "               'extratreesclassifier__min_samples_split': min_samples_split,\n",
    "               'extratreesclassifier__min_samples_leaf': min_samples_leaf,\n",
    "               'extratreesclassifier__bootstrap': bootstrap}\n",
    "pipe = make_imb_pipeline(RandomOverSampler(sampling_strategy=0.5, random_state=0), ExtraTreesClassifier(random_state=0))\n",
    "grid_etc = RandomizedSearchCV(pipe, param_distributions = random_grid, n_iter = 100, cv = 3, verbose=2, random_state=42, n_jobs = -1)\n",
    "grid_etc.fit(X_et_class, y_class)\n",
    "grid_etc.best_params_"
   ]
  },
  {
   "cell_type": "code",
   "execution_count": 53,
   "metadata": {},
   "outputs": [
    {
     "data": {
      "text/plain": [
       "0.921691493955095"
      ]
     },
     "execution_count": 53,
     "metadata": {},
     "output_type": "execute_result"
    }
   ],
   "source": [
    "dt_pipe = make_imb_pipeline(RandomOverSampler(random_state=0), \n",
    "                            ExtraTreesClassifier(random_state=0, n_estimators=1600, max_depth=10))\n",
    "np.mean(cross_val_score(dt_pipe, X_et_class, y_class, cv=StratifiedKFold(10, shuffle=True, random_state=0), scoring='accuracy'))"
   ]
  },
  {
   "cell_type": "markdown",
   "metadata": {},
   "source": [
    "## Regression"
   ]
  },
  {
   "cell_type": "code",
   "execution_count": 93,
   "metadata": {},
   "outputs": [],
   "source": [
    "X_reg = df.loc[:, df.columns !='EnergyAboveHull']\n",
    "y_reg = df.loc[:, 'EnergyAboveHull']"
   ]
  },
  {
   "cell_type": "code",
   "execution_count": 94,
   "metadata": {},
   "outputs": [
    {
     "data": {
      "image/png": "[encoded data removed]",
      "text/plain": [
       "<Figure size 432x288 with 1 Axes>"
      ]
     },
     "metadata": {
      "needs_background": "light"
     },
     "output_type": "display_data"
    }
   ],
   "source": [
    "# apply inverse hyperbolic sine transform to normalize data\n",
    "# response variable is heavily skewed right\n",
    "y_reg_log= y_reg.apply(lambda x: np.arcsinh(x))\n",
    "plt.hist(y_reg_log, bins='auto')\n",
    "plt.tight_layout()"
   ]
  },
  {
   "cell_type": "code",
   "execution_count": 95,
   "metadata": {},
   "outputs": [
    {
     "name": "stderr",
     "output_type": "stream",
     "text": [
      "/Users/williamyu/anaconda3/lib/python3.7/site-packages/pandas/core/frame.py:3997: SettingWithCopyWarning: \n",
      "A value is trying to be set on a copy of a slice from a DataFrame\n",
      "\n",
      "See the caveats in the documentation: https://pandas.pydata.org/pandas-docs/stable/user_guide/indexing.html#returning-a-view-versus-a-copy\n",
      "  errors=errors,\n"
     ]
    },
    {
     "data": {
      "text/plain": [
       "(1929, 314)"
      ]
     },
     "execution_count": 95,
     "metadata": {},
     "output_type": "execute_result"
    }
   ],
   "source": [
    "X_train_reg, X_test_reg, y_train_reg, y_test_reg = train_test_split(X_reg, y_reg_log)\n",
    "\n",
    "# remove statistically insignificant features based on lin reg\n",
    "f_values, p_values = f_regression(X_train_reg, y_train_reg)\n",
    "pval_df = pd.DataFrame({'features': X_reg.columns, 'p_val': p_values})\n",
    "pval_df = pval_df[pval_df['p_val'] >= 0.05]\n",
    "\n",
    "X_reg.drop(pval_df['features'], axis=1, inplace=True)\n",
    "X_reg.shape"
   ]
  },
  {
   "cell_type": "code",
   "execution_count": 96,
   "metadata": {},
   "outputs": [
    {
     "name": "stdout",
     "output_type": "stream",
     "text": [
      "Number of Features: 230\n"
     ]
    }
   ],
   "source": [
    "from sklearn.tree import DecisionTreeClassifier, DecisionTreeRegressor\n",
    "\n",
    "X_train_reg, X_test_reg, y_train_reg, y_test_reg = train_test_split(X_reg, y_reg_log)\n",
    "rfe_log = RFECV(DecisionTreeRegressor(random_state=0), cv=KFold(10, shuffle=True), scoring='r2')\n",
    "rfe_log.fit(X_train_reg, y_train_reg)\n",
    "print('Number of Features:',  rfe_log.n_features_)"
   ]
  },
  {
   "cell_type": "code",
   "execution_count": 97,
   "metadata": {},
   "outputs": [],
   "source": [
    "X_dtr_log = X_reg.iloc[:, rfe_log.support_]\n",
    "X_train_log, X_test_log, y_train_log, y_test_log = train_test_split(X_dtr_log, y_reg_log, random_state=0)"
   ]
  },
  {
   "cell_type": "code",
   "execution_count": 98,
   "metadata": {},
   "outputs": [
    {
     "data": {
      "text/plain": [
       "0.7852117513367863"
      ]
     },
     "execution_count": 98,
     "metadata": {},
     "output_type": "execute_result"
    }
   ],
   "source": [
    "dt = xgboost.XGBRegressor(random_state=0, max_depth=5)\n",
    "dt.fit(X_train_log, y_train_log)\n",
    "dt.score(X_test_log, y_test_log)"
   ]
  },
  {
   "cell_type": "code",
   "execution_count": 99,
   "metadata": {},
   "outputs": [
    {
     "name": "stdout",
     "output_type": "stream",
     "text": [
      "Fitting 5 folds for each of 100 candidates, totalling 500 fits\n"
     ]
    },
    {
     "name": "stderr",
     "output_type": "stream",
     "text": [
      "[Parallel(n_jobs=-1)]: Using backend LokyBackend with 8 concurrent workers.\n",
      "[Parallel(n_jobs=-1)]: Done  25 tasks      | elapsed:   49.1s\n",
      "[Parallel(n_jobs=-1)]: Done 146 tasks      | elapsed: 10.1min\n",
      "[Parallel(n_jobs=-1)]: Done 349 tasks      | elapsed: 23.6min\n",
      "[Parallel(n_jobs=-1)]: Done 500 out of 500 | elapsed: 33.0min finished\n"
     ]
    },
    {
     "data": {
      "text/plain": [
       "0.8049043986342161"
      ]
     },
     "execution_count": 99,
     "metadata": {},
     "output_type": "execute_result"
    }
   ],
   "source": [
    "from sklearn.ensemble import ExtraTreesClassifier, RandomForestClassifier, ExtraTreesRegressor\n",
    "random_grid = {'n_estimators': n_estimators,\n",
    "               'max_features': max_features,\n",
    "               'max_depth': max_depth,\n",
    "               'min_samples_split': min_samples_split,\n",
    "               'min_samples_leaf': min_samples_leaf,\n",
    "               'bootstrap': bootstrap}\n",
    "\n",
    "grid = RandomizedSearchCV(ExtraTreesRegressor(random_state=0), param_distributions = random_grid, n_iter = 100, cv = 5, verbose=2, random_state=42, n_jobs = -1)\n",
    "grid.fit(X_train_log, y_train_log)\n",
    "grid.best_params_\n",
    "grid.score(X_test_log, y_test_log)"
   ]
  },
  {
   "cell_type": "code",
   "execution_count": 100,
   "metadata": {},
   "outputs": [
    {
     "data": {
      "text/plain": [
       "0.8081525413990637"
      ]
     },
     "execution_count": 100,
     "metadata": {},
     "output_type": "execute_result"
    }
   ],
   "source": [
    "tree = ExtraTreesRegressor(random_state=0, max_depth=90, n_estimators=400, min_samples_split=5, min_samples_leaf=1,\n",
    "                          max_features='auto', bootstrap=False)\n",
    "tree.fit(X_train_log, y_train_log)\n",
    "tree.score(X_test_log, y_test_log)"
   ]
  },
  {
   "cell_type": "code",
   "execution_count": 101,
   "metadata": {},
   "outputs": [
    {
     "name": "stdout",
     "output_type": "stream",
     "text": [
      "Number of Features: 236\n"
     ]
    }
   ],
   "source": [
    "# rfecv with extratrees\n",
    "rfe_et = RFECV(ExtraTreesRegressor(random_state=0), cv=KFold(10, shuffle=True), scoring='r2', n_jobs=4)\n",
    "rfe_et.fit(X_train_reg, y_train_reg)\n",
    "print('Number of Features:',  rfe_et.n_features_)"
   ]
  },
  {
   "cell_type": "code",
   "execution_count": 102,
   "metadata": {},
   "outputs": [],
   "source": [
    "X_et = X_reg.iloc[:, rfe_et.support_]\n",
    "X_train_et, X_test_et, y_train_et, y_test_et = train_test_split(X_et, y_reg_log, random_state=0)"
   ]
  },
  {
   "cell_type": "code",
   "execution_count": 103,
   "metadata": {},
   "outputs": [
    {
     "name": "stdout",
     "output_type": "stream",
     "text": [
      "Fitting 5 folds for each of 100 candidates, totalling 500 fits\n"
     ]
    },
    {
     "name": "stderr",
     "output_type": "stream",
     "text": [
      "[Parallel(n_jobs=-1)]: Using backend LokyBackend with 8 concurrent workers.\n",
      "[Parallel(n_jobs=-1)]: Done  25 tasks      | elapsed:   37.8s\n",
      "[Parallel(n_jobs=-1)]: Done 146 tasks      | elapsed: 10.0min\n",
      "[Parallel(n_jobs=-1)]: Done 349 tasks      | elapsed: 22.2min\n",
      "[Parallel(n_jobs=-1)]: Done 500 out of 500 | elapsed: 28.9min finished\n"
     ]
    },
    {
     "data": {
      "text/plain": [
       "0.8078767485858055"
      ]
     },
     "execution_count": 103,
     "metadata": {},
     "output_type": "execute_result"
    }
   ],
   "source": [
    "#0.8167\n",
    "grid = RandomizedSearchCV(ExtraTreesRegressor(random_state=0), param_distributions = random_grid, n_iter = 100, cv = 5, verbose=2, random_state=42, n_jobs = -1)\n",
    "grid.fit(X_train_et, y_train_et)\n",
    "grid.best_params_\n",
    "grid.score(X_test_et, y_test_et)"
   ]
  },
  {
   "cell_type": "code",
   "execution_count": 119,
   "metadata": {},
   "outputs": [
    {
     "data": {
      "text/plain": [
       "Text(0.5, 15.0, 'EnergyAboveHull')"
      ]
     },
     "execution_count": 119,
     "metadata": {},
     "output_type": "execute_result"
    },
    {
     "data": {
      "image/png": "[encoded data removed]",
      "text/plain": [
       "<Figure size 432x288 with 1 Axes>"
      ]
     },
     "metadata": {
      "needs_background": "light"
     },
     "output_type": "display_data"
    }
   ],
   "source": [
    "plt.hist(y_reg, bins='auto')\n",
    "plt.tight_layout()\n",
    "plt.title('Distribution of Response Variable Energy Above Hull')\n",
    "plt.xlabel('EnergyAboveHull')"
   ]
  },
  {
   "cell_type": "code",
   "execution_count": 124,
   "metadata": {},
   "outputs": [
    {
     "data": {
      "text/plain": [
       "([<matplotlib.axis.XTick at 0x137f89860>,\n",
       "  <matplotlib.axis.XTick at 0x137f89208>],\n",
       " <a list of 2 Text xticklabel objects>)"
      ]
     },
     "execution_count": 124,
     "metadata": {},
     "output_type": "execute_result"
    },
    {
     "data": {
      "image/png": "[encoded data removed]",
      "text/plain": [
       "<Figure size 432x288 with 1 Axes>"
      ]
     },
     "metadata": {
      "needs_background": "light"
     },
     "output_type": "display_data"
    }
   ],
   "source": [
    "y_class.value_counts().plot.bar()\n",
    "plt.title('Distribution of Response Var. \"stability\" for Classification')\n",
    "plt.xticks(np.arange(2), ['unstable', 'stable'])"
   ]
  },
  {
   "cell_type": "code",
   "execution_count": 115,
   "metadata": {},
   "outputs": [
    {
     "data": {
      "text/plain": [
       "1.0    1362\n",
       "0.0     567\n",
       "Name: class, dtype: int64"
      ]
     },
     "execution_count": 115,
     "metadata": {},
     "output_type": "execute_result"
    }
   ],
   "source": [
    "y_class.value_counts()"
   ]
  },
  {
   "cell_type": "code",
   "execution_count": null,
   "metadata": {},
   "outputs": [],
   "source": []
  }
 ],
 "metadata": {
  "kernelspec": {
   "display_name": "Python 3",
   "language": "python",
   "name": "python3"
  },
  "language_info": {
   "codemirror_mode": {
    "name": "ipython",
    "version": 3
   },
   "file_extension": ".py",
   "mimetype": "text/x-python",
   "name": "python",
   "nbconvert_exporter": "python",
   "pygments_lexer": "ipython3",
   "version": "3.7.3"
  }
 },
 "nbformat": 4,
 "nbformat_minor": 2
}
