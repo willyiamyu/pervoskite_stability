{
 "cells": [
  {
   "cell_type": "code",
   "execution_count": 87,
   "metadata": {},
   "outputs": [],
   "source": [
    "import pandas as pd \n",
    "import numpy as np \n",
    "import matplotlib.pyplot as plt"
   ]
  },
  {
   "cell_type": "code",
   "execution_count": 88,
   "metadata": {},
   "outputs": [
    {
     "data": {
      "text/html": [
       "<div>\n",
       "<style scoped>\n",
       "    .dataframe tbody tr th:only-of-type {\n",
       "        vertical-align: middle;\n",
       "    }\n",
       "\n",
       "    .dataframe tbody tr th {\n",
       "        vertical-align: top;\n",
       "    }\n",
       "\n",
       "    .dataframe thead th {\n",
       "        text-align: right;\n",
       "    }\n",
       "</style>\n",
       "<table border=\"1\" class=\"dataframe\">\n",
       "  <thead>\n",
       "    <tr style=\"text-align: right;\">\n",
       "      <th></th>\n",
       "      <th>goldschmidt_TF</th>\n",
       "      <th>goldschmidt_TF_ionic</th>\n",
       "      <th>octahedral_factor</th>\n",
       "      <th>octahedral_factor_ionic</th>\n",
       "      <th>A_O</th>\n",
       "      <th>B_O</th>\n",
       "      <th>A_B</th>\n",
       "      <th>num_of_atoms_host_Asite0</th>\n",
       "      <th>shannon_radii_host_Asite0</th>\n",
       "      <th>host_Asite0_Ionic Radius (angstroms)</th>\n",
       "      <th>...</th>\n",
       "      <th>Bsite_NdUnfilled_range</th>\n",
       "      <th>Bsite_NdValence_range</th>\n",
       "      <th>Bsite_NfUnfilled_range</th>\n",
       "      <th>Bsite_NfValence_range</th>\n",
       "      <th>Bsite_NpUnfilled_range</th>\n",
       "      <th>Bsite_NpValence_range</th>\n",
       "      <th>Bsite_NsUnfilled_range</th>\n",
       "      <th>Bsite_NsValence_range</th>\n",
       "      <th>Bsite_NUnfilled_range</th>\n",
       "      <th>EnergyAboveHull</th>\n",
       "    </tr>\n",
       "  </thead>\n",
       "  <tbody>\n",
       "    <tr>\n",
       "      <th>0</th>\n",
       "      <td>1.021823</td>\n",
       "      <td>0.976828</td>\n",
       "      <td>0.414286</td>\n",
       "      <td>0.385714</td>\n",
       "      <td>2.86125</td>\n",
       "      <td>1.980</td>\n",
       "      <td>2.04125</td>\n",
       "      <td>7</td>\n",
       "      <td>1.440</td>\n",
       "      <td>1.26</td>\n",
       "      <td>...</td>\n",
       "      <td>0</td>\n",
       "      <td>0</td>\n",
       "      <td>0</td>\n",
       "      <td>0</td>\n",
       "      <td>0</td>\n",
       "      <td>0</td>\n",
       "      <td>0</td>\n",
       "      <td>0</td>\n",
       "      <td>0</td>\n",
       "      <td>29.747707</td>\n",
       "    </tr>\n",
       "    <tr>\n",
       "      <th>1</th>\n",
       "      <td>0.987385</td>\n",
       "      <td>0.889057</td>\n",
       "      <td>0.378571</td>\n",
       "      <td>0.464286</td>\n",
       "      <td>2.69500</td>\n",
       "      <td>1.930</td>\n",
       "      <td>1.82500</td>\n",
       "      <td>4</td>\n",
       "      <td>1.200</td>\n",
       "      <td>1.13</td>\n",
       "      <td>...</td>\n",
       "      <td>0</td>\n",
       "      <td>0</td>\n",
       "      <td>0</td>\n",
       "      <td>0</td>\n",
       "      <td>0</td>\n",
       "      <td>0</td>\n",
       "      <td>0</td>\n",
       "      <td>0</td>\n",
       "      <td>0</td>\n",
       "      <td>106.702335</td>\n",
       "    </tr>\n",
       "    <tr>\n",
       "      <th>2</th>\n",
       "      <td>0.976009</td>\n",
       "      <td>0.908360</td>\n",
       "      <td>0.452857</td>\n",
       "      <td>0.392857</td>\n",
       "      <td>2.80750</td>\n",
       "      <td>2.034</td>\n",
       "      <td>2.04150</td>\n",
       "      <td>6</td>\n",
       "      <td>1.340</td>\n",
       "      <td>1.00</td>\n",
       "      <td>...</td>\n",
       "      <td>0</td>\n",
       "      <td>0</td>\n",
       "      <td>0</td>\n",
       "      <td>0</td>\n",
       "      <td>0</td>\n",
       "      <td>0</td>\n",
       "      <td>0</td>\n",
       "      <td>0</td>\n",
       "      <td>0</td>\n",
       "      <td>171.608093</td>\n",
       "    </tr>\n",
       "    <tr>\n",
       "      <th>3</th>\n",
       "      <td>1.026809</td>\n",
       "      <td>0.865275</td>\n",
       "      <td>0.342857</td>\n",
       "      <td>0.492857</td>\n",
       "      <td>2.73000</td>\n",
       "      <td>1.880</td>\n",
       "      <td>1.81000</td>\n",
       "      <td>4</td>\n",
       "      <td>1.200</td>\n",
       "      <td>1.13</td>\n",
       "      <td>...</td>\n",
       "      <td>0</td>\n",
       "      <td>0</td>\n",
       "      <td>0</td>\n",
       "      <td>0</td>\n",
       "      <td>0</td>\n",
       "      <td>0</td>\n",
       "      <td>0</td>\n",
       "      <td>0</td>\n",
       "      <td>0</td>\n",
       "      <td>284.898190</td>\n",
       "    </tr>\n",
       "    <tr>\n",
       "      <th>4</th>\n",
       "      <td>0.909001</td>\n",
       "      <td>0.916519</td>\n",
       "      <td>0.452857</td>\n",
       "      <td>0.392857</td>\n",
       "      <td>2.61475</td>\n",
       "      <td>2.034</td>\n",
       "      <td>1.84875</td>\n",
       "      <td>6</td>\n",
       "      <td>1.083</td>\n",
       "      <td>1.03</td>\n",
       "      <td>...</td>\n",
       "      <td>0</td>\n",
       "      <td>0</td>\n",
       "      <td>0</td>\n",
       "      <td>0</td>\n",
       "      <td>0</td>\n",
       "      <td>0</td>\n",
       "      <td>0</td>\n",
       "      <td>0</td>\n",
       "      <td>0</td>\n",
       "      <td>270.007913</td>\n",
       "    </tr>\n",
       "  </tbody>\n",
       "</table>\n",
       "<p>5 rows × 963 columns</p>\n",
       "</div>"
      ],
      "text/plain": [
       "   goldschmidt_TF  goldschmidt_TF_ionic  octahedral_factor  \\\n",
       "0        1.021823              0.976828           0.414286   \n",
       "1        0.987385              0.889057           0.378571   \n",
       "2        0.976009              0.908360           0.452857   \n",
       "3        1.026809              0.865275           0.342857   \n",
       "4        0.909001              0.916519           0.452857   \n",
       "\n",
       "   octahedral_factor_ionic      A_O    B_O      A_B  num_of_atoms_host_Asite0  \\\n",
       "0                 0.385714  2.86125  1.980  2.04125                         7   \n",
       "1                 0.464286  2.69500  1.930  1.82500                         4   \n",
       "2                 0.392857  2.80750  2.034  2.04150                         6   \n",
       "3                 0.492857  2.73000  1.880  1.81000                         4   \n",
       "4                 0.392857  2.61475  2.034  1.84875                         6   \n",
       "\n",
       "   shannon_radii_host_Asite0  host_Asite0_Ionic Radius (angstroms)  ...  \\\n",
       "0                      1.440                                  1.26  ...   \n",
       "1                      1.200                                  1.13  ...   \n",
       "2                      1.340                                  1.00  ...   \n",
       "3                      1.200                                  1.13  ...   \n",
       "4                      1.083                                  1.03  ...   \n",
       "\n",
       "   Bsite_NdUnfilled_range  Bsite_NdValence_range  Bsite_NfUnfilled_range  \\\n",
       "0                       0                      0                       0   \n",
       "1                       0                      0                       0   \n",
       "2                       0                      0                       0   \n",
       "3                       0                      0                       0   \n",
       "4                       0                      0                       0   \n",
       "\n",
       "   Bsite_NfValence_range  Bsite_NpUnfilled_range  Bsite_NpValence_range  \\\n",
       "0                      0                       0                      0   \n",
       "1                      0                       0                      0   \n",
       "2                      0                       0                      0   \n",
       "3                      0                       0                      0   \n",
       "4                      0                       0                      0   \n",
       "\n",
       "   Bsite_NsUnfilled_range  Bsite_NsValence_range  Bsite_NUnfilled_range  \\\n",
       "0                       0                      0                      0   \n",
       "1                       0                      0                      0   \n",
       "2                       0                      0                      0   \n",
       "3                       0                      0                      0   \n",
       "4                       0                      0                      0   \n",
       "\n",
       "   EnergyAboveHull  \n",
       "0        29.747707  \n",
       "1       106.702335  \n",
       "2       171.608093  \n",
       "3       284.898190  \n",
       "4       270.007913  \n",
       "\n",
       "[5 rows x 963 columns]"
      ]
     },
     "execution_count": 88,
     "metadata": {},
     "output_type": "execute_result"
    }
   ],
   "source": [
    "raw = pd.read_excel('1-s2.0-S2352340918305092-mmc2.xlsx', sheet_name='Dataset with Generated Features')\n",
    "df = raw.copy()\n",
    "df.drop(['index', 'Material Composition', 'Formation_energy'], axis=1, inplace=True)\n",
    "df.head()"
   ]
  },
  {
   "cell_type": "code",
   "execution_count": 89,
   "metadata": {},
   "outputs": [
    {
     "data": {
      "text/plain": [
       "(1929, 792)"
      ]
     },
     "execution_count": 89,
     "metadata": {},
     "output_type": "execute_result"
    }
   ],
   "source": [
    "from sklearn.feature_selection import VarianceThreshold\n",
    "\n",
    "# remove features with 0 variance\n",
    "vt = VarianceThreshold()\n",
    "vt.fit(df)\n",
    "df = df.loc[:, vt.variances_ > 0 ]\n",
    "df.shape"
   ]
  },
  {
   "cell_type": "code",
   "execution_count": 90,
   "metadata": {},
   "outputs": [
    {
     "name": "stdout",
     "output_type": "stream",
     "text": [
      "(1929, 397)\n"
     ]
    }
   ],
   "source": [
    "init_x = df.loc[:, df.columns !='EnergyAboveHull']\n",
    "init_y = df.loc[:, 'EnergyAboveHull']\n",
    "\n",
    "# remove low correlated features\n",
    "low_corr = []\n",
    "for col in init_x.columns:\n",
    "    if abs(init_x[col].corr(init_y)) < 1e-2:\n",
    "        low_corr.append(col)\n",
    "        \n",
    "from collections import defaultdict\n",
    "corr_df = init_x.corr()\n",
    "# get features that have correlation > 0.95 \n",
    "def high_corr(corr):\n",
    "    raw_corrs = defaultdict(float)\n",
    "    for col in corr.columns:\n",
    "        index = corr[col].index\n",
    "        for pos in range(len(index)):\n",
    "            if np.abs(corr[col][pos]) >= 0.90 and index[pos] != col:\n",
    "                raw_corrs[(col, index[pos])] =  corr[col][pos]\n",
    "    \n",
    "    # remove duplicates by score\n",
    "    result = defaultdict(float)\n",
    "    for key,value in raw_corrs.items():\n",
    "        if value not in result.values():\n",
    "            result[key] = value\n",
    "            \n",
    "    return result\n",
    "\n",
    "high_corrs = high_corr(corr_df)\n",
    "\n",
    "# keep only one of the features that are highly correlated\n",
    "# keep the one that has highest correlation with target\n",
    "df.drop(low_corr, axis=1, inplace=True)\n",
    "\n",
    "for key, val in high_corrs.items():\n",
    "    try: \n",
    "        if np.abs(df[key[0]].corr(df['EnergyAboveHull'])) > np.abs(df[key[1]].corr(df['EnergyAboveHull'])):\n",
    "            df = df.loc[:, df.columns != key[1]]\n",
    "        else: \n",
    "            df = df.loc[:, df.columns != key[0]]\n",
    "    except KeyError:\n",
    "        continue\n",
    "        \n",
    "print(df.shape)"
   ]
  },
  {
   "cell_type": "code",
   "execution_count": 16,
   "metadata": {},
   "outputs": [
    {
     "name": "stderr",
     "output_type": "stream",
     "text": [
      "/Users/williamyu/anaconda3/lib/python3.7/site-packages/ipykernel_launcher.py:3: SettingWithCopyWarning: \n",
      "A value is trying to be set on a copy of a slice from a DataFrame\n",
      "\n",
      "See the caveats in the documentation: https://pandas.pydata.org/pandas-docs/stable/user_guide/indexing.html#returning-a-view-versus-a-copy\n",
      "  This is separate from the ipykernel package so we can avoid doing imports until\n",
      "/Users/williamyu/anaconda3/lib/python3.7/site-packages/ipykernel_launcher.py:4: SettingWithCopyWarning: \n",
      "A value is trying to be set on a copy of a slice from a DataFrame\n",
      "\n",
      "See the caveats in the documentation: https://pandas.pydata.org/pandas-docs/stable/user_guide/indexing.html#returning-a-view-versus-a-copy\n",
      "  after removing the cwd from sys.path.\n"
     ]
    }
   ],
   "source": [
    "class_df = df.copy()\n",
    "class_df['class'] = class_df['EnergyAboveHull']\n",
    "class_df['class'][class_df['EnergyAboveHull'] > 40] = 1\n",
    "class_df['class'][class_df['EnergyAboveHull'] <= 40] = 0\n",
    "class_df.drop(['EnergyAboveHull'], axis=1, inplace=True)"
   ]
  },
  {
   "cell_type": "code",
   "execution_count": 17,
   "metadata": {},
   "outputs": [],
   "source": [
    "X_class = class_df.loc[:, class_df.columns !='class']\n",
    "y_class = class_df.loc[:, 'class']"
   ]
  },
  {
   "cell_type": "code",
   "execution_count": 18,
   "metadata": {},
   "outputs": [
    {
     "name": "stderr",
     "output_type": "stream",
     "text": [
      "/Users/williamyu/anaconda3/lib/python3.7/site-packages/sklearn/feature_selection/_univariate_selection.py:115: UserWarning: Features [326] are constant.\n",
      "  UserWarning)\n",
      "/Users/williamyu/anaconda3/lib/python3.7/site-packages/sklearn/feature_selection/_univariate_selection.py:116: RuntimeWarning: invalid value encountered in true_divide\n",
      "  f = msb / msw\n",
      "/Users/williamyu/anaconda3/lib/python3.7/site-packages/pandas/core/frame.py:3997: SettingWithCopyWarning: \n",
      "A value is trying to be set on a copy of a slice from a DataFrame\n",
      "\n",
      "See the caveats in the documentation: https://pandas.pydata.org/pandas-docs/stable/user_guide/indexing.html#returning-a-view-versus-a-copy\n",
      "  errors=errors,\n"
     ]
    }
   ],
   "source": [
    "from sklearn.feature_selection import f_regression, f_classif, SelectKBest, RFECV, RFE\n",
    "from sklearn.model_selection import train_test_split\n",
    "\n",
    "X_train_class, X_test_class, y_train_class, y_test_class = train_test_split(X_class, y_class)\n",
    "\n",
    "f_values, p_values = f_classif(X_train_class, y_train_class)\n",
    "\n",
    "pval_df = pd.DataFrame({'features': X_class.columns, 'p_val': p_values})\n",
    "pval_df = pval_df[pval_df['p_val'] >= 0.05]\n",
    "\n",
    "class_df.drop(pval_df['features'], axis=1, inplace=True)\n",
    "X_class.drop(pval_df['features'], axis=1, inplace=True)"
   ]
  },
  {
   "cell_type": "code",
   "execution_count": 19,
   "metadata": {},
   "outputs": [],
   "source": [
    "X_train_class, X_test_class, y_train_class, y_test_class = train_test_split(X_class, y_class)"
   ]
  },
  {
   "cell_type": "code",
   "execution_count": 20,
   "metadata": {},
   "outputs": [
    {
     "name": "stdout",
     "output_type": "stream",
     "text": [
      "Number of Features: 291\n"
     ]
    }
   ],
   "source": [
    "rfe_gb = RFECV(GradientBoostingClassifier(random_state=0), scoring='f1')\n",
    "rfe_gb.fit(X_train_class, y_train_class)\n",
    "print('Number of Features:',  rfe_gb.n_features_)"
   ]
  },
  {
   "cell_type": "code",
   "execution_count": 21,
   "metadata": {},
   "outputs": [
    {
     "name": "stdout",
     "output_type": "stream",
     "text": [
      "Number of Features: 140\n"
     ]
    }
   ],
   "source": [
    "from sklearn.ensemble import GradientBoostingClassifier, ExtraTreesClassifier, ExtraTreesRegressor\n",
    "from imblearn.pipeline import make_pipeline as make_imb_pipeline\n",
    "from imblearn.over_sampling import RandomOverSampler, SMOTE\n",
    "from sklearn.model_selection import train_test_split, cross_val_score, cross_validate, GridSearchCV, KFold, StratifiedKFold,RandomizedSearchCV\n",
    "from sklearn.metrics import f1_score\n",
    "from sklearn.tree import DecisionTreeClassifier, DecisionTreeRegressor\n",
    "rfe_et_class = RFECV(ExtraTreesClassifier(random_state=0), cv=StratifiedKFold(5, shuffle=True, random_state=0), scoring='f1')\n",
    "rfe_et_class.fit(X_train_class, y_train_class)\n",
    "print('Number of Features:',  rfe_et_class.n_features_)"
   ]
  },
  {
   "cell_type": "code",
   "execution_count": 22,
   "metadata": {},
   "outputs": [
    {
     "name": "stdout",
     "output_type": "stream",
     "text": [
      "Number of Features: 215\n"
     ]
    }
   ],
   "source": [
    "rfe_tree = RFECV(DecisionTreeClassifier(random_state=0), cv=StratifiedKFold(5, shuffle=True, random_state=0), scoring='f1')\n",
    "rfe_tree.fit(X_train_class, y_train_class)\n",
    "print('Number of Features:',  rfe_tree.n_features_)"
   ]
  },
  {
   "cell_type": "code",
   "execution_count": 23,
   "metadata": {},
   "outputs": [],
   "source": [
    "X_tree = X_class.iloc[:, rfe_tree.support_]"
   ]
  },
  {
   "cell_type": "code",
   "execution_count": 24,
   "metadata": {},
   "outputs": [],
   "source": [
    "import xgboost\n",
    "xgb = xgboost.XGBClassifier(random_state=0, n_estimators=400, max_depth=5)"
   ]
  },
  {
   "cell_type": "code",
   "execution_count": 25,
   "metadata": {},
   "outputs": [
    {
     "name": "stdout",
     "output_type": "stream",
     "text": [
      "Acc: 0.7569194536033914\n",
      "f1: 0.8176525770294752\n"
     ]
    }
   ],
   "source": [
    "import smogn\n",
    "\n",
    "def oversample(sampling_strategy, X, y):\n",
    "    xtrains = []\n",
    "    ytrains = []\n",
    "    xtests = []\n",
    "    ytests = []\n",
    "    f1scores=[]\n",
    "    acc = []\n",
    "    if sampling_strategy == 'smote':\n",
    "        sampler = SMOTE()\n",
    "    elif sampling_strategy == 'over':\n",
    "        sampler = RandomOverSampler()\n",
    "        \n",
    "    kf = StratifiedKFold(n_splits=5)\n",
    "    for train_index, test_index in kf.split(X, y):\n",
    "        X_train, y_train = X[train_index], y[train_index]\n",
    "        X_test, y_test = X[test_index], y[test_index]\n",
    "        X_train_oversampled, y_train_oversampled = sampler.fit_sample(X_train, y_train)\n",
    "        xgb.fit(X_train_oversampled, y_train_oversampled)\n",
    "        y_pred = xgb.predict(X_test)\n",
    "        acc.append(xgb.score(X_test, y_test))\n",
    "        f1scores.append(f1_score(y_test, y_pred))\n",
    "\n",
    "    return acc, f1scores\n",
    "\n",
    "#xtrains, ytrains, xtests, ytests = oversample('over', X_class.to_numpy(), y_class)\n",
    "acc, f1scores = oversample('over', X_tree.to_numpy(), y_class)\n",
    "print('Acc: ' + str(np.mean(acc)))\n",
    "print('f1: ' + str(np.mean(f1scores)))"
   ]
  },
  {
   "cell_type": "code",
   "execution_count": 26,
   "metadata": {},
   "outputs": [
    {
     "ename": "NameError",
     "evalue": "name 'xtrains' is not defined",
     "output_type": "error",
     "traceback": [
      "\u001b[0;31m---------------------------------------------------------------------------\u001b[0m",
      "\u001b[0;31mNameError\u001b[0m                                 Traceback (most recent call last)",
      "\u001b[0;32m<ipython-input-26-7d06e63d9d4e>\u001b[0m in \u001b[0;36m<module>\u001b[0;34m\u001b[0m\n\u001b[1;32m      1\u001b[0m \u001b[0;31m# oversampled train dataset for the first fold is xtrains[0]\u001b[0m\u001b[0;34m\u001b[0m\u001b[0;34m\u001b[0m\u001b[0;34m\u001b[0m\u001b[0m\n\u001b[1;32m      2\u001b[0m \u001b[0;31m# ytrains[0] are the corresponding labels for xtrains[0]\u001b[0m\u001b[0;34m\u001b[0m\u001b[0;34m\u001b[0m\u001b[0;34m\u001b[0m\u001b[0m\n\u001b[0;32m----> 3\u001b[0;31m \u001b[0mfirstfoldtrain\u001b[0m \u001b[0;34m=\u001b[0m \u001b[0mpd\u001b[0m\u001b[0;34m.\u001b[0m\u001b[0mDataFrame\u001b[0m\u001b[0;34m(\u001b[0m\u001b[0mxtrains\u001b[0m\u001b[0;34m[\u001b[0m\u001b[0;36m0\u001b[0m\u001b[0;34m]\u001b[0m\u001b[0;34m)\u001b[0m\u001b[0;34m\u001b[0m\u001b[0;34m\u001b[0m\u001b[0m\n\u001b[0m\u001b[1;32m      4\u001b[0m \u001b[0mfirstfoldtrain\u001b[0m\u001b[0;34m[\u001b[0m\u001b[0;34m'class'\u001b[0m\u001b[0;34m]\u001b[0m \u001b[0;34m=\u001b[0m \u001b[0mytrains\u001b[0m\u001b[0;34m[\u001b[0m\u001b[0;36m0\u001b[0m\u001b[0;34m]\u001b[0m\u001b[0;34m\u001b[0m\u001b[0;34m\u001b[0m\u001b[0m\n\u001b[1;32m      5\u001b[0m \u001b[0mfirstfoldtrain\u001b[0m\u001b[0;34m.\u001b[0m\u001b[0mcolumns\u001b[0m \u001b[0;34m=\u001b[0m \u001b[0mclass_df\u001b[0m\u001b[0;34m.\u001b[0m\u001b[0mcolumns\u001b[0m\u001b[0;34m\u001b[0m\u001b[0;34m\u001b[0m\u001b[0m\n",
      "\u001b[0;31mNameError\u001b[0m: name 'xtrains' is not defined"
     ]
    }
   ],
   "source": [
    "# oversampled train dataset for the first fold is xtrains[0]\n",
    "# ytrains[0] are the corresponding labels for xtrains[0]\n",
    "firstfoldtrain = pd.DataFrame(xtrains[0])\n",
    "firstfoldtrain['class'] = ytrains[0]\n",
    "firstfoldtrain.columns = class_df.columns\n",
    "firstfoldtrain"
   ]
  },
  {
   "cell_type": "markdown",
   "metadata": {},
   "source": [
    "## Reg"
   ]
  },
  {
   "cell_type": "code",
   "execution_count": 91,
   "metadata": {},
   "outputs": [
    {
     "name": "stderr",
     "output_type": "stream",
     "text": [
      "/Users/williamyu/anaconda3/lib/python3.7/site-packages/sklearn/feature_selection/_univariate_selection.py:302: RuntimeWarning: invalid value encountered in true_divide\n",
      "  corr /= X_norms\n",
      "/Users/williamyu/anaconda3/lib/python3.7/site-packages/scipy/stats/_distn_infrastructure.py:903: RuntimeWarning: invalid value encountered in greater\n",
      "  return (a < x) & (x < b)\n",
      "/Users/williamyu/anaconda3/lib/python3.7/site-packages/scipy/stats/_distn_infrastructure.py:903: RuntimeWarning: invalid value encountered in less\n",
      "  return (a < x) & (x < b)\n",
      "/Users/williamyu/anaconda3/lib/python3.7/site-packages/scipy/stats/_distn_infrastructure.py:1912: RuntimeWarning: invalid value encountered in less_equal\n",
      "  cond2 = cond0 & (x <= _a)\n",
      "/Users/williamyu/anaconda3/lib/python3.7/site-packages/pandas/core/frame.py:3997: SettingWithCopyWarning: \n",
      "A value is trying to be set on a copy of a slice from a DataFrame\n",
      "\n",
      "See the caveats in the documentation: https://pandas.pydata.org/pandas-docs/stable/user_guide/indexing.html#returning-a-view-versus-a-copy\n",
      "  errors=errors,\n"
     ]
    },
    {
     "data": {
      "text/plain": [
       "(1929, 338)"
      ]
     },
     "execution_count": 91,
     "metadata": {},
     "output_type": "execute_result"
    }
   ],
   "source": [
    "X_reg = df.loc[:, df.columns !='EnergyAboveHull']\n",
    "y_reg = df.loc[:, 'EnergyAboveHull']\n",
    "\n",
    "X_train_reg, X_test_reg, y_train_reg, y_test_reg = train_test_split(X_reg, y_reg)\n",
    "\n",
    "# remove statistically insignificant features based on lin reg\n",
    "f_values, p_values = f_regression(X_train_reg, y_train_reg)\n",
    "pval_df = pd.DataFrame({'features': X_reg.columns, 'p_val': p_values})\n",
    "pval_df = pval_df[pval_df['p_val'] >= 0.05]\n",
    "\n",
    "X_reg.drop(pval_df['features'], axis=1, inplace=True)\n",
    "X_reg.shape"
   ]
  },
  {
   "cell_type": "code",
   "execution_count": 68,
   "metadata": {},
   "outputs": [],
   "source": [
    "# apply inverse hyperbolic sine transform to normalize data\n",
    "# logarithmic apply to test data as well because model is fitted to log data\n",
    "y_reg_log = y_reg.apply(lambda x: np.arcsinh(x))"
   ]
  },
  {
   "cell_type": "code",
   "execution_count": 69,
   "metadata": {},
   "outputs": [],
   "source": [
    "X_train_reg, X_test_reg, y_train_reg, y_test_reg = train_test_split(X_reg, y_reg_log)"
   ]
  },
  {
   "cell_type": "code",
   "execution_count": 70,
   "metadata": {},
   "outputs": [
    {
     "name": "stdout",
     "output_type": "stream",
     "text": [
      "Number of Features: 17\n"
     ]
    }
   ],
   "source": [
    "from sklearn.tree import DecisionTreeClassifier, DecisionTreeRegressor\n",
    "\n",
    "rfe_log = RFECV(DecisionTreeRegressor(random_state=0), cv=KFold(10, shuffle=True), scoring='r2')\n",
    "rfe_log.fit(X_train_reg, y_train_reg)\n",
    "print('Number of Features:',  rfe_log.n_features_)"
   ]
  },
  {
   "cell_type": "code",
   "execution_count": 71,
   "metadata": {},
   "outputs": [],
   "source": [
    "X_dtr = X_reg.iloc[:, rfe_log.support_]\n",
    "X_dtr_train, X_dtr_test, y_dtr_train, y_dtr_test = train_test_split(X_dtr, y_reg_log)"
   ]
  },
  {
   "cell_type": "code",
   "execution_count": 72,
   "metadata": {},
   "outputs": [
    {
     "name": "stdout",
     "output_type": "stream",
     "text": [
      "Fitting 5 folds for each of 100 candidates, totalling 500 fits\n"
     ]
    },
    {
     "name": "stderr",
     "output_type": "stream",
     "text": [
      "[Parallel(n_jobs=-1)]: Using backend LokyBackend with 8 concurrent workers.\n",
      "[Parallel(n_jobs=-1)]: Done  25 tasks      | elapsed:   22.7s\n",
      "[Parallel(n_jobs=-1)]: Done 146 tasks      | elapsed:  1.9min\n",
      "[Parallel(n_jobs=-1)]: Done 349 tasks      | elapsed:  4.1min\n",
      "[Parallel(n_jobs=-1)]: Done 500 out of 500 | elapsed:  5.4min finished\n"
     ]
    },
    {
     "data": {
      "text/plain": [
       "{'n_estimators': 1800,\n",
       " 'min_samples_split': 2,\n",
       " 'min_samples_leaf': 1,\n",
       " 'max_features': 'auto',\n",
       " 'max_depth': 20,\n",
       " 'bootstrap': False}"
      ]
     },
     "execution_count": 72,
     "metadata": {},
     "output_type": "execute_result"
    }
   ],
   "source": [
    "from sklearn.ensemble import ExtraTreesClassifier, RandomForestClassifier, ExtraTreesRegressor\n",
    "# Number of trees in random forest\n",
    "n_estimators = [int(x) for x in np.linspace(start = 200, stop = 2000, num = 10)]\n",
    "# Number of features to consider at every split\n",
    "max_features = ['auto', 'sqrt']\n",
    "# Maximum number of levels in tree\n",
    "max_depth = [int(x) for x in np.linspace(10, 110, num = 11)]\n",
    "max_depth.append(None)\n",
    "# Minimum number of samples required to split a node\n",
    "min_samples_split = [2, 5, 10]\n",
    "# Minimum number of samples required at each leaf node\n",
    "min_samples_leaf = [1, 2, 4]\n",
    "# Method of selecting samples for training each tree\n",
    "bootstrap = [True, False]\n",
    "# Create the random grid\n",
    "random_grid = {'n_estimators': n_estimators,\n",
    "               'max_features': max_features,\n",
    "               'max_depth': max_depth,\n",
    "               'min_samples_split': min_samples_split,\n",
    "               'min_samples_leaf': min_samples_leaf,\n",
    "               'bootstrap': bootstrap}\n",
    "\n",
    "grid = RandomizedSearchCV(ExtraTreesRegressor(random_state=0), param_distributions = random_grid, n_iter = 100, cv = 5, verbose=2, random_state=42, n_jobs = -1)\n",
    "grid.fit(X_dtr_train, y_dtr_train)\n",
    "grid.best_params_"
   ]
  },
  {
   "cell_type": "code",
   "execution_count": 73,
   "metadata": {},
   "outputs": [],
   "source": [
    "tree = ExtraTreesRegressor(random_state=0, max_depth=20, n_estimators=1800, min_samples_split=2, min_samples_leaf=1,\n",
    "                          max_features='auto', bootstrap=False)"
   ]
  },
  {
   "cell_type": "code",
   "execution_count": 95,
   "metadata": {},
   "outputs": [
    {
     "name": "stderr",
     "output_type": "stream",
     "text": [
      "dist_matrix: 100%|##########| 201/201 [03:30<00:00,  1.05s/it]\n",
      "synth_matrix: 100%|##########| 201/201 [00:08<00:00, 23.30it/s]\n",
      "r_index: 100%|##########| 168/168 [00:03<00:00, 47.78it/s]\n",
      "dist_matrix: 100%|##########| 194/194 [03:13<00:00,  1.00it/s]\n",
      "synth_matrix: 100%|##########| 194/194 [00:08<00:00, 22.08it/s]\n",
      "r_index: 100%|##########| 190/190 [00:04<00:00, 41.99it/s]\n",
      "dist_matrix: 100%|##########| 198/198 [03:21<00:00,  1.02s/it]\n",
      "synth_matrix: 100%|##########| 198/198 [00:07<00:00, 25.83it/s]\n",
      "r_index: 100%|##########| 177/177 [00:03<00:00, 46.26it/s]\n",
      "dist_matrix: 100%|##########| 191/191 [03:07<00:00,  1.02it/s]\n",
      "synth_matrix: 100%|##########| 191/191 [00:12<00:00, 14.84it/s]\n",
      "r_index: 100%|##########| 7/7 [00:00<00:00, 42.62it/s]\n",
      "dist_matrix: 100%|##########| 201/201 [03:28<00:00,  1.04s/it]\n",
      "synth_matrix: 100%|##########| 201/201 [00:07<00:00, 25.23it/s]\n",
      "r_index: 100%|##########| 168/168 [00:03<00:00, 46.65it/s]\n"
     ]
    },
    {
     "data": {
      "text/plain": [
       "0.7276484481812595"
      ]
     },
     "execution_count": 95,
     "metadata": {},
     "output_type": "execute_result"
    }
   ],
   "source": [
    "# oversample for regression\n",
    "import smogn\n",
    "\n",
    "def oversample_reg(df, model):\n",
    "    dftrains=[]\n",
    "    dftests=[]\n",
    "    r2 = []\n",
    "    kf = KFold(n_splits=5, shuffle=True, random_state=0)\n",
    "    for train_index, test_index in kf.split(df):\n",
    "        df_train = df.iloc[train_index]\n",
    "        df_test = df.iloc[test_index]\n",
    "        df_smogn = smogn.smoter(data = df_train.reset_index(drop=True), y = 'EnergyAboveHull')\n",
    "        X_train_smogn = df_smogn.loc[:, df_smogn.columns!='EnergyAboveHull']\n",
    "        y_train_smogn = df_smogn['EnergyAboveHull']\n",
    "        X_test = df_test.loc[:, df_test.columns!='EnergyAboveHull']\n",
    "        y_test = df_test['EnergyAboveHull']\n",
    "        model.fit(X_train_smogn, y_train_smogn)\n",
    "        r2.append(model.score(X_test, y_test))\n",
    "        #dftrains.append(df_smogn)\n",
    "        #dftests.append(df_test)\n",
    "        \n",
    "    #return dftrains, dftests\n",
    "    return r2\n",
    "\n",
    "r2 = oversample_reg(df, tree)\n",
    "np.mean(r2)"
   ]
  },
  {
   "cell_type": "code",
   "execution_count": null,
   "metadata": {},
   "outputs": [],
   "source": []
  }
 ],
 "metadata": {
  "kernelspec": {
   "display_name": "Python 3",
   "language": "python",
   "name": "python3"
  },
  "language_info": {
   "codemirror_mode": {
    "name": "ipython",
    "version": 3
   },
   "file_extension": ".py",
   "mimetype": "text/x-python",
   "name": "python",
   "nbconvert_exporter": "python",
   "pygments_lexer": "ipython3",
   "version": "3.7.3"
  }
 },
 "nbformat": 4,
 "nbformat_minor": 2
}
